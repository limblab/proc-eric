{
 "cells": [
  {
   "cell_type": "code",
   "execution_count": 1,
   "metadata": {},
   "outputs": [],
   "source": [
    "import os\n",
    "import pandas as pd\n",
    "from Reprojection import reprojection\n",
    "from utils.utils import load_config\n",
    "from utils.calibration_utils import get_video_path"
   ]
  },
  {
   "cell_type": "code",
   "execution_count": 6,
   "metadata": {},
   "outputs": [],
   "source": [
    "config = load_config('config_pop_left_20210814_repro.toml')\n",
    "\n",
    "baseline_path = '/home/myp7435/Pop_left_hand-eric-2021-07-02/videos/20210814/iteration-106/interp_reproject/good_frames_3d.csv'\n",
    "interpolated_path = '/home/myp7435/Pop_left_hand-eric-2021-07-02/videos/20210814/iteration-106/interp_reproject/11drop_interp_good_frames_3d.csv'\n",
    "\n",
    "extraction_indices = pd.read_csv('/home/myp7435/Pop_left_hand-eric-2021-07-02/videos/20210814/iteration-106/interp_reproject/11drop_frames_to_extract.csv',squeeze=True,header=None)\n",
    "extraction_indices = extraction_indices.values.tolist()\n",
    "\n",
    "frame_indices = pd.read_csv('/home/myp7435/Pop_left_hand-eric-2021-07-02/videos/20210814/iteration-106/interp_reproject/11drop_reprojection_indices.csv',squeeze=True,header=None)\n",
    "frame_indices = frame_indices.values.tolist() \n",
    "\n",
    "extraction = reprojection(config, baseline_path, extraction_indices)\n",
    "baseline_repro = reprojection(config, baseline_path, frame_indices)\n",
    "interpolated_repro = reprojection(config, interpolated_path, frame_indices)"
   ]
  },
  {
   "cell_type": "code",
   "execution_count": 7,
   "metadata": {},
   "outputs": [
    {
     "name": "stderr",
     "output_type": "stream",
     "text": [
      "100%|██████████| 21/21 [00:00<00:00, 344.85it/s]\n",
      "100%|██████████| 21/21 [00:00<00:00, 400.25it/s]\n",
      "100%|██████████| 21/21 [00:00<00:00, 369.12it/s]\n",
      "100%|██████████| 21/21 [00:00<00:00, 358.04it/s]\n",
      "100%|██████████| 21/21 [00:00<00:00, 355.58it/s]\n",
      "100%|██████████| 21/21 [00:00<00:00, 368.36it/s]\n",
      "100%|██████████| 21/21 [00:00<00:00, 369.94it/s]\n",
      "100%|██████████| 21/21 [00:00<00:00, 366.67it/s]\n"
     ]
    }
   ],
   "source": [
    "project_folder_path = '/home/myp7435/Pop_left_hand-eric-2021-07-02/labeled-data/'\n",
    "\n",
    "extracted_frames = [os.path.join(project_folder_path, 'cam_'+str(i)+'_11drop_frames') for i in range(4)]\n",
    "baseline_save_paths = [os.path.join(project_folder_path, 'cam_'+str(i)+'_11drop_frames') for i in range(4)]\n",
    "interpolated_save_paths = [os.path.join(project_folder_path, 'cam_'+str(i)+'_11drop_interpolated') for i in range(4)]\n",
    "\n",
    "video_folder_path = '/home/myp7435/Pop_left_hand-eric-2021-07-02/videos/20210814'\n",
    "video_paths = [os.path.join(video_folder_path, '20210814_cam_'+str(i)+'.avi') for i in range(4)]\n",
    "\n",
    "_, _, vid_indices = get_video_path(config)\n",
    "\n",
    "img_format = 'png'\n",
    "\n",
    "scorer = 'eric'\n",
    "\n",
    "#extraction.reproject(video_paths, extracted_frames, vid_indices, img_format, scorer)\n",
    "baseline_repro.reproject_no_extraction(baseline_save_paths, vid_indices, img_format, scorer)\n",
    "interpolated_repro.reproject_no_extraction(interpolated_save_paths, vid_indices, img_format, scorer)"
   ]
  },
  {
   "cell_type": "code",
   "execution_count": 15,
   "metadata": {},
   "outputs": [],
   "source": [
    "file= '/home/myp7435/Pop_left_hand-eric-2021-07-02/labeled-data/cam_0_11drop_interpolated/CollectedData_eric.h5'\n",
    "\n",
    "df = pd.read_hdf(file)\n",
    "df.to_csv(file.replace(\".h5\", \".csv\"))"
   ]
  },
  {
   "cell_type": "code",
   "execution_count": 19,
   "metadata": {},
   "outputs": [],
   "source": [
    "file= '/home/myp7435/Pop_left_hand-eric-2021-07-02/labeled-data/cam_3_11drop_frames/CollectedData_eric.csv'\n",
    "h5_file = '/home/myp7435/Pop_left_hand-eric-2021-07-02/labeled-data/cam_3_11drop_frames/CollectedData_eric.h5'\n",
    "\n",
    "df = pd.read_csv(file)\n",
    "df.to_hdf(h5_file, 'data', mode='w', format='table')"
   ]
  },
  {
   "cell_type": "code",
   "execution_count": null,
   "metadata": {},
   "outputs": [],
   "source": []
  }
 ],
 "metadata": {
  "kernelspec": {
   "display_name": "Python 3",
   "language": "python",
   "name": "python3"
  },
  "language_info": {
   "codemirror_mode": {
    "name": "ipython",
    "version": 3
   },
   "file_extension": ".py",
   "mimetype": "text/x-python",
   "name": "python",
   "nbconvert_exporter": "python",
   "pygments_lexer": "ipython3",
   "version": "3.6.3"
  },
  "varInspector": {
   "cols": {
    "lenName": 16,
    "lenType": 16,
    "lenVar": 40
   },
   "kernels_config": {
    "python": {
     "delete_cmd_postfix": "",
     "delete_cmd_prefix": "del ",
     "library": "var_list.py",
     "varRefreshCmd": "print(var_dic_list())"
    },
    "r": {
     "delete_cmd_postfix": ") ",
     "delete_cmd_prefix": "rm(",
     "library": "var_list.r",
     "varRefreshCmd": "cat(var_dic_list()) "
    }
   },
   "types_to_exclude": [
    "module",
    "function",
    "builtin_function_or_method",
    "instance",
    "_Feature"
   ],
   "window_display": false
  }
 },
 "nbformat": 4,
 "nbformat_minor": 2
}
